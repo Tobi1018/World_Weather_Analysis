{
 "cells": [
  {
   "cell_type": "code",
   "execution_count": 18,
   "id": "349278b2",
   "metadata": {},
   "outputs": [],
   "source": [
    "# Create a practice set of random latitude and longitude combinations.\n",
    "x = [25.12903645, 25.92017388, 26.62509167, -59.98969384, 37.30571269]\n",
    "y = [-67.59741259, 11.09532135, 74.84233102, -76.89176677, -61.13376282]\n",
    "coordinates = zip(x, y)"
   ]
  },
  {
   "cell_type": "code",
   "execution_count": 19,
   "id": "3c309aff",
   "metadata": {},
   "outputs": [
    {
     "name": "stdout",
     "output_type": "stream",
     "text": [
      "25.12903645 -67.59741259\n",
      "25.92017388 11.09532135\n",
      "26.62509167 74.84233102\n",
      "-59.98969384 -76.89176677\n",
      "37.30571269 -61.13376282\n"
     ]
    }
   ],
   "source": [
    "# Use the tuple() function to display the latitude and longitude combinations.\n",
    "for coordinate in coordinates:\n",
    "    print(coordinate[0], coordinate[1])"
   ]
  },
  {
   "cell_type": "code",
   "execution_count": 23,
   "id": "16568e79",
   "metadata": {},
   "outputs": [],
   "source": [
    "# Use the citipy module to determine city based on latitude and longitude.\n",
    "from citipy import citipy"
   ]
  },
  {
   "cell_type": "code",
   "execution_count": 24,
   "id": "e69a46b3",
   "metadata": {},
   "outputs": [],
   "source": [
    "# Use the tuple() function to display the latitude and longitude combinations.\n",
    "for coordinate in coordinates:\n",
    "    print(citipy.nearest_city(coordinate[0], coordinate[1]).city_name,\n",
    "          citipy.nearest_city(coordinate[0], coordinate[1]).country_code)"
   ]
  },
  {
   "cell_type": "code",
   "execution_count": 26,
   "id": "4c510731",
   "metadata": {},
   "outputs": [],
   "source": [
    "# Import the requests library.\n",
    "import requests\n",
    "\n",
    "# Import the API key.\n",
    "from config import weather_api_key"
   ]
  },
  {
   "cell_type": "code",
   "execution_count": 27,
   "id": "512006ce",
   "metadata": {},
   "outputs": [
    {
     "name": "stdout",
     "output_type": "stream",
     "text": [
      "http://api.openweathermap.org/data/2.5/weather?units=Imperial&APPID=5525f451f3e4d4614602a50b54a7446c\n"
     ]
    }
   ],
   "source": [
    "# Starting URL for Weather Map API Call.\n",
    "url = \"http://api.openweathermap.org/data/2.5/weather?units=Imperial&APPID=\" + weather_api_key\n",
    "print(url)"
   ]
  },
  {
   "cell_type": "code",
   "execution_count": 30,
   "id": "3f4056c8",
   "metadata": {},
   "outputs": [
    {
     "name": "stdout",
     "output_type": "stream",
     "text": [
      "http://api.openweathermap.org/data/2.5/weather?units=Imperial&APPID=5525f451f3e4d4614602a50b54a7446c&q=Boston\n"
     ]
    }
   ],
   "source": [
    "# Create an endpoint URL for a city.\n",
    "city_url = url + \"&q=\" + \"Boston\"\n",
    "print(city_url)"
   ]
  },
  {
   "cell_type": "code",
   "execution_count": 32,
   "id": "0e55cf6d",
   "metadata": {},
   "outputs": [
    {
     "data": {
      "text/plain": [
       "<Response [200]>"
      ]
     },
     "execution_count": 32,
     "metadata": {},
     "output_type": "execute_result"
    }
   ],
   "source": [
    "# Make a 'Get' request for the city weather.\n",
    "city_weather = requests.get(city_url)\n",
    "city_weather\n"
   ]
  },
  {
   "cell_type": "code",
   "execution_count": 33,
   "id": "9065e930",
   "metadata": {},
   "outputs": [
    {
     "data": {
      "text/plain": [
       "200"
      ]
     },
     "execution_count": 33,
     "metadata": {},
     "output_type": "execute_result"
    }
   ],
   "source": [
    "city_weather.status_code"
   ]
  },
  {
   "cell_type": "code",
   "execution_count": 34,
   "id": "3b2f1e12",
   "metadata": {},
   "outputs": [
    {
     "data": {
      "text/plain": [
       "<Response [404]>"
      ]
     },
     "execution_count": 34,
     "metadata": {},
     "output_type": "execute_result"
    }
   ],
   "source": [
    "# Create an endpoint URL for a city.\n",
    "city_url = url + \"&q=\" + \"Bston\"\n",
    "city_weather = requests.get(city_url)\n",
    "city_weather"
   ]
  },
  {
   "cell_type": "code",
   "execution_count": 35,
   "id": "5648d3c5",
   "metadata": {},
   "outputs": [
    {
     "data": {
      "text/plain": [
       "<Response [200]>"
      ]
     },
     "execution_count": 35,
     "metadata": {},
     "output_type": "execute_result"
    }
   ],
   "source": [
    "# Create an endpoint URL for a city.\n",
    "city_url = url + \"&q=\" + \"Boston\"\n",
    "city_weather = requests.get(city_url)\n",
    "city_weather"
   ]
  },
  {
   "cell_type": "code",
   "execution_count": 36,
   "id": "fc151a62",
   "metadata": {},
   "outputs": [
    {
     "data": {
      "text/plain": [
       "'{\"coord\":{\"lon\":-71.0598,\"lat\":42.3584},\"weather\":[{\"id\":803,\"main\":\"Clouds\",\"description\":\"broken clouds\",\"icon\":\"04d\"}],\"base\":\"stations\",\"main\":{\"temp\":65.03,\"feels_like\":64.67,\"temp_min\":61.41,\"temp_max\":68.49,\"pressure\":1018,\"humidity\":73},\"visibility\":10000,\"wind\":{\"speed\":1.99,\"deg\":13,\"gust\":8.99},\"clouds\":{\"all\":69},\"dt\":1632577337,\"sys\":{\"type\":2,\"id\":2013408,\"country\":\"US\",\"sunrise\":1632566099,\"sunset\":1632609398},\"timezone\":-14400,\"id\":4930956,\"name\":\"Boston\",\"cod\":200}'"
      ]
     },
     "execution_count": 36,
     "metadata": {},
     "output_type": "execute_result"
    }
   ],
   "source": [
    "# Get the text of the 'Get' request.\n",
    "city_weather.text"
   ]
  },
  {
   "cell_type": "code",
   "execution_count": 37,
   "id": "410b150b",
   "metadata": {},
   "outputs": [
    {
     "data": {
      "text/plain": [
       "{'coord': {'lon': -71.0598, 'lat': 42.3584},\n",
       " 'weather': [{'id': 803,\n",
       "   'main': 'Clouds',\n",
       "   'description': 'broken clouds',\n",
       "   'icon': '04d'}],\n",
       " 'base': 'stations',\n",
       " 'main': {'temp': 65.03,\n",
       "  'feels_like': 64.67,\n",
       "  'temp_min': 61.41,\n",
       "  'temp_max': 68.49,\n",
       "  'pressure': 1018,\n",
       "  'humidity': 73},\n",
       " 'visibility': 10000,\n",
       " 'wind': {'speed': 1.99, 'deg': 13, 'gust': 8.99},\n",
       " 'clouds': {'all': 69},\n",
       " 'dt': 1632577337,\n",
       " 'sys': {'type': 2,\n",
       "  'id': 2013408,\n",
       "  'country': 'US',\n",
       "  'sunrise': 1632566099,\n",
       "  'sunset': 1632609398},\n",
       " 'timezone': -14400,\n",
       " 'id': 4930956,\n",
       " 'name': 'Boston',\n",
       " 'cod': 200}"
      ]
     },
     "execution_count": 37,
     "metadata": {},
     "output_type": "execute_result"
    }
   ],
   "source": [
    "# Get the JSON text of the 'Get' request.\n",
    "city_weather.json()"
   ]
  },
  {
   "cell_type": "code",
   "execution_count": 38,
   "id": "2caea2e8",
   "metadata": {},
   "outputs": [
    {
     "name": "stdout",
     "output_type": "stream",
     "text": [
      "City Weather not found.\n"
     ]
    }
   ],
   "source": [
    "# Create an endpoint URL for a city.\n",
    "city_url = url + \"&q=\" + \"Bston\"\n",
    "city_weather = requests.get(city_url)\n",
    "if city_weather.status_code == 200:\n",
    "    print(f\"City Weather found.\")\n",
    "else:\n",
    "    print(f\"City Weather not found.\")"
   ]
  },
  {
   "cell_type": "code",
   "execution_count": 39,
   "id": "1ee27df2",
   "metadata": {},
   "outputs": [
    {
     "name": "stdout",
     "output_type": "stream",
     "text": [
      "http://api.openweathermap.org/data/2.5/weather?units=Imperial&APPID=5525f451f3e4d4614602a50b54a7446c&q=Bston\n"
     ]
    }
   ],
   "source": [
    "print(city_url)"
   ]
  },
  {
   "cell_type": "code",
   "execution_count": 40,
   "id": "defba782",
   "metadata": {},
   "outputs": [
    {
     "data": {
      "text/plain": [
       "{'coord': {'lon': -71.0598, 'lat': 42.3584},\n",
       " 'weather': [{'id': 803,\n",
       "   'main': 'Clouds',\n",
       "   'description': 'broken clouds',\n",
       "   'icon': '04d'}],\n",
       " 'base': 'stations',\n",
       " 'main': {'temp': 65.86,\n",
       "  'feels_like': 65.48,\n",
       "  'temp_min': 61.83,\n",
       "  'temp_max': 69.39,\n",
       "  'pressure': 1018,\n",
       "  'humidity': 71},\n",
       " 'visibility': 10000,\n",
       " 'wind': {'speed': 3, 'deg': 13, 'gust': 10},\n",
       " 'clouds': {'all': 69},\n",
       " 'dt': 1632578203,\n",
       " 'sys': {'type': 2,\n",
       "  'id': 2013408,\n",
       "  'country': 'US',\n",
       "  'sunrise': 1632566099,\n",
       "  'sunset': 1632609398},\n",
       " 'timezone': -14400,\n",
       " 'id': 4930956,\n",
       " 'name': 'Boston',\n",
       " 'cod': 200}"
      ]
     },
     "execution_count": 40,
     "metadata": {},
     "output_type": "execute_result"
    }
   ],
   "source": [
    "# Create an endpoint URL for a city.\n",
    "city_url = url + \"&q=\" + \"Boston\"\n",
    "city_weather = requests.get(city_url)\n",
    "city_weather.json()"
   ]
  },
  {
   "cell_type": "code",
   "execution_count": 41,
   "id": "d7a0a7e2",
   "metadata": {},
   "outputs": [],
   "source": [
    "# Get the JSON data.\n",
    "boston_data = city_weather.json()"
   ]
  },
  {
   "cell_type": "code",
   "execution_count": 42,
   "id": "79ee3a63",
   "metadata": {},
   "outputs": [
    {
     "data": {
      "text/plain": [
       "{'type': 2,\n",
       " 'id': 2013408,\n",
       " 'country': 'US',\n",
       " 'sunrise': 1632566099,\n",
       " 'sunset': 1632609398}"
      ]
     },
     "execution_count": 42,
     "metadata": {},
     "output_type": "execute_result"
    }
   ],
   "source": [
    "boston_data['sys']"
   ]
  },
  {
   "cell_type": "code",
   "execution_count": 43,
   "id": "29c599d6",
   "metadata": {},
   "outputs": [
    {
     "data": {
      "text/plain": [
       "'US'"
      ]
     },
     "execution_count": 43,
     "metadata": {},
     "output_type": "execute_result"
    }
   ],
   "source": [
    "boston_data[\"sys\"][\"country\"]"
   ]
  },
  {
   "cell_type": "code",
   "execution_count": 44,
   "id": "e4652ae1",
   "metadata": {},
   "outputs": [
    {
     "data": {
      "text/plain": [
       "1632578203"
      ]
     },
     "execution_count": 44,
     "metadata": {},
     "output_type": "execute_result"
    }
   ],
   "source": [
    "boston_data[\"dt\"]"
   ]
  },
  {
   "cell_type": "code",
   "execution_count": 46,
   "id": "473cefbb",
   "metadata": {},
   "outputs": [
    {
     "data": {
      "text/plain": [
       "42.3584"
      ]
     },
     "execution_count": 46,
     "metadata": {},
     "output_type": "execute_result"
    }
   ],
   "source": [
    "boston_data[\"coord\"][\"lat\"]"
   ]
  },
  {
   "cell_type": "code",
   "execution_count": 48,
   "id": "cdd6cebf",
   "metadata": {},
   "outputs": [
    {
     "data": {
      "text/plain": [
       "69.39"
      ]
     },
     "execution_count": 48,
     "metadata": {},
     "output_type": "execute_result"
    }
   ],
   "source": [
    "boston_data[\"main\"][\"temp_max\"]"
   ]
  },
  {
   "cell_type": "code",
   "execution_count": 49,
   "id": "be707d49",
   "metadata": {},
   "outputs": [
    {
     "name": "stdout",
     "output_type": "stream",
     "text": [
      "42.3584 -71.0598 69.39 71 69 3\n"
     ]
    }
   ],
   "source": [
    "lat = boston_data[\"coord\"][\"lat\"]\n",
    "lng = boston_data[\"coord\"][\"lon\"]\n",
    "max_temp = boston_data[\"main\"][\"temp_max\"]\n",
    "humidity = boston_data[\"main\"][\"humidity\"]\n",
    "clouds = boston_data[\"clouds\"][\"all\"]\n",
    "wind = boston_data[\"wind\"][\"speed\"]\n",
    "print(lat, lng, max_temp, humidity, clouds, wind)"
   ]
  },
  {
   "cell_type": "code",
   "execution_count": 50,
   "id": "be3f7791",
   "metadata": {},
   "outputs": [
    {
     "data": {
      "text/plain": [
       "1632578203"
      ]
     },
     "execution_count": 50,
     "metadata": {},
     "output_type": "execute_result"
    }
   ],
   "source": [
    "boston_data[\"dt\"]"
   ]
  },
  {
   "cell_type": "code",
   "execution_count": 51,
   "id": "5201d205",
   "metadata": {},
   "outputs": [
    {
     "data": {
      "text/plain": [
       "datetime.datetime(2021, 9, 25, 13, 56, 43)"
      ]
     },
     "execution_count": 51,
     "metadata": {},
     "output_type": "execute_result"
    }
   ],
   "source": [
    "# Import the datetime module from the datetime library.\n",
    "from datetime import datetime\n",
    "# Get the date from the JSON file.\n",
    "date = boston_data[\"dt\"]\n",
    "# Convert the UTC date to a date format with year, month, day, hours, minutes, and seconds.\n",
    "datetime.utcfromtimestamp(date)"
   ]
  },
  {
   "cell_type": "code",
   "execution_count": 52,
   "id": "d993304f",
   "metadata": {},
   "outputs": [
    {
     "data": {
      "text/plain": [
       "'2021-09-25 13:56:43'"
      ]
     },
     "execution_count": 52,
     "metadata": {},
     "output_type": "execute_result"
    }
   ],
   "source": [
    "datetime.utcfromtimestamp(date).strftime('%Y-%m-%d %H:%M:%S')"
   ]
  },
  {
   "cell_type": "code",
   "execution_count": 53,
   "id": "96aa5dcf",
   "metadata": {},
   "outputs": [],
   "source": [
    "# Import the datetime module from the datetime library.\n",
    "from datetime import datetime"
   ]
  },
  {
   "cell_type": "code",
   "execution_count": 64,
   "id": "aa964977",
   "metadata": {},
   "outputs": [
    {
     "data": {
      "text/plain": [
       "633"
      ]
     },
     "execution_count": 64,
     "metadata": {},
     "output_type": "execute_result"
    }
   ],
   "source": [
    "# Import the dependencies.\n",
    "import pandas as pd\n",
    "import matplotlib.pyplot as plt\n",
    "import numpy as np\n",
    "\n",
    "# Create a set of random latitude and longitude combinations.\n",
    "lats = np.random.uniform(low=-90.000, high=90.000, size=1500)\n",
    "lngs = np.random.uniform(low=-180.000, high=180.000, size=1500)\n",
    "lat_lngs = zip(lats, lngs)\n",
    "lat_lngs\n",
    "\n",
    "# Add the latitudes and longitudes to a list.\n",
    "coordinates = list(lat_lngs)\n",
    "\n",
    "from citipy import citipy\n",
    "\n",
    "# Create a list for holding the cities.\n",
    "cities = []\n",
    "# Identify the nearest city for each latitude and longitude combination.\n",
    "for coordinate in coordinates:\n",
    "    city = citipy.nearest_city(coordinate[0], coordinate[1]).city_name\n",
    "\n",
    "    # If the city is unique, then we will add it to the cities list.\n",
    "    if city not in cities:\n",
    "        cities.append(city)\n",
    "# Print the city count to confirm sufficient count.\n",
    "len(cities)"
   ]
  },
  {
   "cell_type": "code",
   "execution_count": null,
   "id": "f1c9a0e4",
   "metadata": {},
   "outputs": [],
   "source": []
  },
  {
   "cell_type": "code",
   "execution_count": 66,
   "id": "6a357e7e",
   "metadata": {},
   "outputs": [
    {
     "name": "stdout",
     "output_type": "stream",
     "text": [
      "Beginning Data Retrieval     \n",
      "---------                  --------------------\n"
     ]
    }
   ],
   "source": [
    "# Create an empty list to hold the weather data.\n",
    "city_data = []\n",
    "# Print the beginning of the logging.\n",
    "print(\"Beginning Data Retrieval     \")\n",
    "print(\"---------                  --------------------\")\n",
    "\n",
    "# Create counters.\n",
    "record_count = 1\n",
    "set_count = 1"
   ]
  },
  {
   "cell_type": "code",
   "execution_count": 67,
   "id": "56be1222",
   "metadata": {},
   "outputs": [
    {
     "name": "stdout",
     "output_type": "stream",
     "text": [
      "Processing Record 1 of Set 1 | vaini\n",
      "Processing Record 2 of Set 1 | gushikawa\n",
      "Processing Record 3 of Set 1 | arlit\n",
      "Processing Record 4 of Set 1 | mataura\n",
      "Processing Record 5 of Set 1 | punta arenas\n",
      "Processing Record 6 of Set 1 | sitka\n",
      "Processing Record 7 of Set 1 | yellowknife\n",
      "Processing Record 8 of Set 1 | bata\n",
      "Processing Record 9 of Set 1 | new norfolk\n",
      "Processing Record 10 of Set 1 | port alfred\n",
      "Processing Record 11 of Set 1 | bredasdorp\n",
      "Processing Record 12 of Set 1 | mishan\n",
      "Processing Record 13 of Set 1 | chokurdakh\n",
      "Processing Record 14 of Set 1 | mar del plata\n",
      "Processing Record 15 of Set 1 | khani\n",
      "Processing Record 16 of Set 1 | hermanus\n",
      "Processing Record 17 of Set 1 | duku\n",
      "Processing Record 18 of Set 1 | sao filipe\n",
      "Processing Record 19 of Set 1 | tibiri\n",
      "Processing Record 20 of Set 1 | taoudenni\n",
      "Processing Record 21 of Set 1 | albany\n",
      "Processing Record 22 of Set 1 | carnarvon\n",
      "Processing Record 23 of Set 1 | cape town\n",
      "Processing Record 24 of Set 1 | port elizabeth\n",
      "Processing Record 25 of Set 1 | isangel\n",
      "Processing Record 26 of Set 1 | tasiilaq\n",
      "Processing Record 27 of Set 1 | ribeira grande\n",
      "Processing Record 28 of Set 1 | bacolod\n",
      "Processing Record 29 of Set 1 | ushuaia\n",
      "Processing Record 30 of Set 1 | tselinnoye\n",
      "Processing Record 31 of Set 1 | lac\n",
      "Processing Record 32 of Set 1 | port hueneme\n",
      "Processing Record 33 of Set 1 | huilong\n",
      "Processing Record 34 of Set 1 | champerico\n",
      "Processing Record 35 of Set 1 | ketchikan\n",
      "Processing Record 36 of Set 1 | radchenko\n",
      "Processing Record 37 of Set 1 | kabompo\n",
      "Processing Record 38 of Set 1 | uyuni\n",
      "Processing Record 39 of Set 1 | nikolayevsk-na-amure\n",
      "Processing Record 40 of Set 1 | avarua\n",
      "Processing Record 41 of Set 1 | quirinopolis\n",
      "Processing Record 42 of Set 1 | deputatskiy\n",
      "Processing Record 43 of Set 1 | biak\n",
      "Processing Record 44 of Set 1 | half moon bay\n",
      "Processing Record 45 of Set 1 | bugiri\n",
      "Processing Record 46 of Set 1 | hasaki\n",
      "Processing Record 47 of Set 1 | kodiak\n",
      "Processing Record 48 of Set 1 | nanortalik\n",
      "Processing Record 49 of Set 1 | airai\n",
      "Processing Record 50 of Set 1 | luderitz\n",
      "Processing Record 1 of Set 2 | thompson\n",
      "Processing Record 2 of Set 2 | berlevag\n",
      "Processing Record 3 of Set 2 | karachi\n",
      "Processing Record 4 of Set 2 | saint-francois\n",
      "Processing Record 5 of Set 2 | touho\n",
      "Processing Record 6 of Set 2 | muscle shoals\n",
      "Processing Record 7 of Set 2 | gornopravdinsk\n",
      "Processing Record 8 of Set 2 | lorengau\n",
      "Processing Record 9 of Set 2 | paita\n",
      "Processing Record 10 of Set 2 | tumannyy\n",
      "City not found. Skipping...\n",
      "Processing Record 11 of Set 2 | port blair\n",
      "Processing Record 12 of Set 2 | kashi\n",
      "Processing Record 13 of Set 2 | samalaeulu\n",
      "City not found. Skipping...\n",
      "Processing Record 14 of Set 2 | barinas\n",
      "Processing Record 15 of Set 2 | dauphin\n",
      "Processing Record 16 of Set 2 | severo-kurilsk\n",
      "Processing Record 17 of Set 2 | galle\n",
      "Processing Record 18 of Set 2 | rikitea\n",
      "Processing Record 19 of Set 2 | iqaluit\n",
      "Processing Record 20 of Set 2 | celestun\n",
      "Processing Record 21 of Set 2 | lompoc\n",
      "Processing Record 22 of Set 2 | sharlyk\n",
      "Processing Record 23 of Set 2 | butaritari\n",
      "Processing Record 24 of Set 2 | barra patuca\n",
      "Processing Record 25 of Set 2 | areka\n",
      "Processing Record 26 of Set 2 | hobart\n",
      "Processing Record 27 of Set 2 | belushya guba\n",
      "City not found. Skipping...\n",
      "Processing Record 28 of Set 2 | barrow\n",
      "Processing Record 29 of Set 2 | koson\n",
      "Processing Record 30 of Set 2 | lima\n",
      "Processing Record 31 of Set 2 | tsihombe\n",
      "City not found. Skipping...\n",
      "Processing Record 32 of Set 2 | vao\n",
      "Processing Record 33 of Set 2 | llanes\n",
      "Processing Record 34 of Set 2 | jamestown\n",
      "Processing Record 35 of Set 2 | bathsheba\n",
      "Processing Record 36 of Set 2 | lagos\n",
      "Processing Record 37 of Set 2 | rabak\n",
      "Processing Record 38 of Set 2 | altay\n",
      "Processing Record 39 of Set 2 | ambunti\n",
      "Processing Record 40 of Set 2 | minden\n",
      "Processing Record 41 of Set 2 | henties bay\n",
      "Processing Record 42 of Set 2 | dir\n",
      "Processing Record 43 of Set 2 | grand-santi\n",
      "Processing Record 44 of Set 2 | vanimo\n",
      "Processing Record 45 of Set 2 | upernavik\n",
      "Processing Record 46 of Set 2 | tuktoyaktuk\n",
      "Processing Record 47 of Set 2 | pevek\n",
      "Processing Record 48 of Set 2 | castro\n",
      "Processing Record 49 of Set 2 | georgetown\n",
      "Processing Record 50 of Set 2 | pringsewu\n",
      "Processing Record 1 of Set 3 | nizhneyansk\n",
      "City not found. Skipping...\n",
      "Processing Record 2 of Set 3 | nazas\n",
      "Processing Record 3 of Set 3 | zinder\n",
      "Processing Record 4 of Set 3 | tabiauea\n",
      "City not found. Skipping...\n",
      "Processing Record 5 of Set 3 | avera\n",
      "Processing Record 6 of Set 3 | bassano\n",
      "Processing Record 7 of Set 3 | torbay\n",
      "Processing Record 8 of Set 3 | viedma\n",
      "Processing Record 9 of Set 3 | khetia\n",
      "Processing Record 10 of Set 3 | malayal\n",
      "Processing Record 11 of Set 3 | grand river south east\n",
      "City not found. Skipping...\n",
      "Processing Record 12 of Set 3 | saint-joseph\n",
      "Processing Record 13 of Set 3 | barentsburg\n",
      "City not found. Skipping...\n",
      "Processing Record 14 of Set 3 | port lincoln\n",
      "Processing Record 15 of Set 3 | monteagudo\n",
      "Processing Record 16 of Set 3 | coahuayana\n",
      "Processing Record 17 of Set 3 | fortuna\n",
      "Processing Record 18 of Set 3 | sibolga\n",
      "Processing Record 19 of Set 3 | bamiantong\n",
      "Processing Record 20 of Set 3 | kiama\n",
      "Processing Record 21 of Set 3 | chifeng\n",
      "Processing Record 22 of Set 3 | dikson\n",
      "Processing Record 23 of Set 3 | nizhniy kuranakh\n",
      "Processing Record 24 of Set 3 | klaksvik\n",
      "Processing Record 25 of Set 3 | hilo\n",
      "Processing Record 26 of Set 3 | meyungs\n",
      "City not found. Skipping...\n",
      "Processing Record 27 of Set 3 | lebu\n",
      "Processing Record 28 of Set 3 | dharmavaram\n",
      "Processing Record 29 of Set 3 | arraial do cabo\n",
      "Processing Record 30 of Set 3 | grand gaube\n",
      "Processing Record 31 of Set 3 | bethel\n",
      "Processing Record 32 of Set 3 | mahebourg\n",
      "Processing Record 33 of Set 3 | hay river\n",
      "Processing Record 34 of Set 3 | noumea\n",
      "Processing Record 35 of Set 3 | codrington\n",
      "Processing Record 36 of Set 3 | maceio\n",
      "Processing Record 37 of Set 3 | khatanga\n",
      "Processing Record 38 of Set 3 | laguna\n",
      "Processing Record 39 of Set 3 | akyab\n",
      "Processing Record 40 of Set 3 | tuggurt\n",
      "City not found. Skipping...\n",
      "Processing Record 41 of Set 3 | murzzuschlag\n",
      "Processing Record 42 of Set 3 | busselton\n",
      "Processing Record 43 of Set 3 | magdalena\n",
      "Processing Record 44 of Set 3 | ganganagar\n",
      "Processing Record 45 of Set 3 | matagami\n",
      "Processing Record 46 of Set 3 | atuona\n",
      "Processing Record 47 of Set 3 | byron bay\n",
      "Processing Record 48 of Set 3 | nouadhibou\n",
      "Processing Record 49 of Set 3 | illoqqortoormiut\n",
      "City not found. Skipping...\n",
      "Processing Record 50 of Set 3 | taolanaro\n",
      "City not found. Skipping...\n",
      "Processing Record 1 of Set 4 | warqla\n",
      "City not found. Skipping...\n",
      "Processing Record 2 of Set 4 | tagusao\n",
      "Processing Record 3 of Set 4 | rio grande\n",
      "Processing Record 4 of Set 4 | saint george\n",
      "Processing Record 5 of Set 4 | dawlatabad\n",
      "Processing Record 6 of Set 4 | lata\n",
      "Processing Record 7 of Set 4 | ostrovnoy\n",
      "Processing Record 8 of Set 4 | riyadh\n",
      "Processing Record 9 of Set 4 | hualmay\n",
      "Processing Record 10 of Set 4 | sentyabrskiy\n",
      "City not found. Skipping...\n",
      "Processing Record 11 of Set 4 | puerres\n",
      "Processing Record 12 of Set 4 | gashua\n",
      "Processing Record 13 of Set 4 | victoria\n",
      "Processing Record 14 of Set 4 | calvinia\n",
      "Processing Record 15 of Set 4 | hithadhoo\n",
      "Processing Record 16 of Set 4 | elhovo\n",
      "Processing Record 17 of Set 4 | hvolsvollur\n",
      "Processing Record 18 of Set 4 | terrace\n",
      "Processing Record 19 of Set 4 | olinda\n",
      "Processing Record 20 of Set 4 | tomatlan\n",
      "Processing Record 21 of Set 4 | kieta\n",
      "Processing Record 22 of Set 4 | cabo san lucas\n",
      "Processing Record 23 of Set 4 | narsaq\n",
      "Processing Record 24 of Set 4 | gat\n",
      "Processing Record 25 of Set 4 | talnakh\n",
      "Processing Record 26 of Set 4 | lavrentiya\n",
      "Processing Record 27 of Set 4 | qandala\n",
      "Processing Record 28 of Set 4 | esna\n",
      "Processing Record 29 of Set 4 | mys shmidta\n",
      "City not found. Skipping...\n",
      "Processing Record 30 of Set 4 | caloundra\n",
      "Processing Record 31 of Set 4 | flinders\n",
      "Processing Record 32 of Set 4 | katherine\n",
      "Processing Record 33 of Set 4 | samusu\n",
      "City not found. Skipping...\n",
      "Processing Record 34 of Set 4 | nemuro\n",
      "Processing Record 35 of Set 4 | kaitangata\n",
      "Processing Record 36 of Set 4 | faanui\n",
      "Processing Record 37 of Set 4 | roma\n",
      "Processing Record 38 of Set 4 | agogo\n",
      "Processing Record 39 of Set 4 | chupa\n",
      "Processing Record 40 of Set 4 | pidhaytsi\n"
     ]
    },
    {
     "name": "stdout",
     "output_type": "stream",
     "text": [
      "Processing Record 41 of Set 4 | worland\n",
      "Processing Record 42 of Set 4 | san jose\n",
      "Processing Record 43 of Set 4 | nicoya\n",
      "Processing Record 44 of Set 4 | paragominas\n",
      "Processing Record 45 of Set 4 | vila\n",
      "Processing Record 46 of Set 4 | manggar\n",
      "Processing Record 47 of Set 4 | innisfail\n",
      "Processing Record 48 of Set 4 | roebourne\n",
      "Processing Record 49 of Set 4 | qabis\n",
      "City not found. Skipping...\n",
      "Processing Record 50 of Set 4 | orlik\n",
      "Processing Record 1 of Set 5 | bluff\n",
      "Processing Record 2 of Set 5 | preobrazheniye\n",
      "Processing Record 3 of Set 5 | qaanaaq\n",
      "Processing Record 4 of Set 5 | porteirinha\n",
      "Processing Record 5 of Set 5 | puerto ayora\n",
      "Processing Record 6 of Set 5 | khandyga\n",
      "Processing Record 7 of Set 5 | kapaa\n",
      "Processing Record 8 of Set 5 | bose\n",
      "Processing Record 9 of Set 5 | bonavista\n",
      "Processing Record 10 of Set 5 | fonte boa\n",
      "Processing Record 11 of Set 5 | adwa\n",
      "Processing Record 12 of Set 5 | kristiansand\n",
      "Processing Record 13 of Set 5 | vagur\n",
      "Processing Record 14 of Set 5 | toliary\n",
      "City not found. Skipping...\n",
      "Processing Record 15 of Set 5 | sikasso\n",
      "Processing Record 16 of Set 5 | salalah\n",
      "Processing Record 17 of Set 5 | pimenta bueno\n",
      "Processing Record 18 of Set 5 | kutum\n",
      "Processing Record 19 of Set 5 | onguday\n",
      "Processing Record 20 of Set 5 | sao felix do xingu\n",
      "Processing Record 21 of Set 5 | sao paulo de olivenca\n",
      "Processing Record 22 of Set 5 | phumi samraong\n",
      "City not found. Skipping...\n",
      "Processing Record 23 of Set 5 | poum\n",
      "Processing Record 24 of Set 5 | huai yot\n",
      "Processing Record 25 of Set 5 | norman wells\n",
      "Processing Record 26 of Set 5 | zhanatas\n",
      "City not found. Skipping...\n",
      "Processing Record 27 of Set 5 | zhumadian\n",
      "Processing Record 28 of Set 5 | sataua\n",
      "City not found. Skipping...\n",
      "Processing Record 29 of Set 5 | koumac\n",
      "Processing Record 30 of Set 5 | coquimbo\n",
      "Processing Record 31 of Set 5 | wagar\n",
      "Processing Record 32 of Set 5 | moerai\n",
      "Processing Record 33 of Set 5 | tobermory\n",
      "Processing Record 34 of Set 5 | madang\n",
      "Processing Record 35 of Set 5 | nome\n",
      "Processing Record 36 of Set 5 | attawapiskat\n",
      "City not found. Skipping...\n",
      "Processing Record 37 of Set 5 | thunder bay\n",
      "Processing Record 38 of Set 5 | karamay\n",
      "City not found. Skipping...\n",
      "Processing Record 39 of Set 5 | padang\n",
      "Processing Record 40 of Set 5 | boyolangu\n",
      "Processing Record 41 of Set 5 | mount gambier\n",
      "Processing Record 42 of Set 5 | labuhan\n",
      "Processing Record 43 of Set 5 | lucea\n",
      "Processing Record 44 of Set 5 | richards bay\n",
      "Processing Record 45 of Set 5 | casablanca\n",
      "Processing Record 46 of Set 5 | kavieng\n",
      "Processing Record 47 of Set 5 | alekseyevsk\n",
      "Processing Record 48 of Set 5 | mandalgovi\n",
      "Processing Record 49 of Set 5 | narsingi\n",
      "Processing Record 50 of Set 5 | mehamn\n",
      "Processing Record 1 of Set 6 | itarema\n",
      "Processing Record 2 of Set 6 | porto walter\n",
      "Processing Record 3 of Set 6 | chuy\n",
      "Processing Record 4 of Set 6 | vanavara\n",
      "Processing Record 5 of Set 6 | perry\n",
      "Processing Record 6 of Set 6 | alta floresta\n",
      "Processing Record 7 of Set 6 | lishui\n",
      "Processing Record 8 of Set 6 | mwinilunga\n",
      "Processing Record 9 of Set 6 | creel\n",
      "Processing Record 10 of Set 6 | abu samrah\n",
      "Processing Record 11 of Set 6 | vestmannaeyjar\n",
      "Processing Record 12 of Set 6 | andros town\n",
      "Processing Record 13 of Set 6 | chanika\n",
      "Processing Record 14 of Set 6 | marsa matruh\n",
      "Processing Record 15 of Set 6 | vila franca do campo\n",
      "Processing Record 16 of Set 6 | beyneu\n",
      "Processing Record 17 of Set 6 | talaya\n",
      "Processing Record 18 of Set 6 | leningradskiy\n",
      "Processing Record 19 of Set 6 | sharan\n",
      "Processing Record 20 of Set 6 | selizharovo\n",
      "Processing Record 21 of Set 6 | kahului\n",
      "Processing Record 22 of Set 6 | dolores\n",
      "Processing Record 23 of Set 6 | thinadhoo\n",
      "Processing Record 24 of Set 6 | ancud\n",
      "Processing Record 25 of Set 6 | sistranda\n",
      "Processing Record 26 of Set 6 | ziro\n",
      "Processing Record 27 of Set 6 | husavik\n",
      "Processing Record 28 of Set 6 | kaihua\n",
      "Processing Record 29 of Set 6 | jiujiang\n",
      "Processing Record 30 of Set 6 | provideniya\n",
      "Processing Record 31 of Set 6 | safwah\n",
      "City not found. Skipping...\n",
      "Processing Record 32 of Set 6 | tiruchchirappalli\n",
      "Processing Record 33 of Set 6 | tuatapere\n",
      "Processing Record 34 of Set 6 | saskylakh\n",
      "Processing Record 35 of Set 6 | dunedin\n",
      "Processing Record 36 of Set 6 | ust-nera\n",
      "Processing Record 37 of Set 6 | nardo\n",
      "Processing Record 38 of Set 6 | souillac\n",
      "Processing Record 39 of Set 6 | sorland\n",
      "Processing Record 40 of Set 6 | tres lagoas\n",
      "Processing Record 41 of Set 6 | ponta do sol\n",
      "Processing Record 42 of Set 6 | cayenne\n",
      "Processing Record 43 of Set 6 | esperance\n",
      "Processing Record 44 of Set 6 | ugoofaaru\n",
      "Processing Record 45 of Set 6 | marzuq\n",
      "Processing Record 46 of Set 6 | hobyo\n",
      "Processing Record 47 of Set 6 | pacific grove\n",
      "Processing Record 48 of Set 6 | ayer itam\n",
      "City not found. Skipping...\n",
      "Processing Record 49 of Set 6 | micheweni\n",
      "Processing Record 50 of Set 6 | oyama\n",
      "Processing Record 1 of Set 7 | solwezi\n",
      "Processing Record 2 of Set 7 | bojnurd\n",
      "Processing Record 3 of Set 7 | amderma\n",
      "City not found. Skipping...\n",
      "Processing Record 4 of Set 7 | henderson\n",
      "Processing Record 5 of Set 7 | sovetskiy\n",
      "Processing Record 6 of Set 7 | touros\n",
      "Processing Record 7 of Set 7 | voskresenskoye\n",
      "Processing Record 8 of Set 7 | trofors\n",
      "Processing Record 9 of Set 7 | ilulissat\n",
      "Processing Record 10 of Set 7 | angoche\n",
      "Processing Record 11 of Set 7 | vardo\n",
      "Processing Record 12 of Set 7 | santa fe\n",
      "Processing Record 13 of Set 7 | dongsheng\n",
      "Processing Record 14 of Set 7 | bhuban\n",
      "Processing Record 15 of Set 7 | valparaiso\n",
      "Processing Record 16 of Set 7 | cherskiy\n",
      "Processing Record 17 of Set 7 | ahipara\n",
      "Processing Record 18 of Set 7 | yangjiang\n",
      "Processing Record 19 of Set 7 | baiyin\n",
      "Processing Record 20 of Set 7 | campbellton\n",
      "Processing Record 21 of Set 7 | goya\n",
      "Processing Record 22 of Set 7 | damavand\n",
      "Processing Record 23 of Set 7 | plettenberg bay\n",
      "Processing Record 24 of Set 7 | zhezkazgan\n",
      "Processing Record 25 of Set 7 | osakarovka\n",
      "Processing Record 26 of Set 7 | mandera\n",
      "Processing Record 27 of Set 7 | port pirie\n",
      "Processing Record 28 of Set 7 | trairi\n",
      "Processing Record 29 of Set 7 | parkes\n",
      "Processing Record 30 of Set 7 | ust-ordynskiy\n",
      "Processing Record 31 of Set 7 | balykshi\n",
      "Processing Record 32 of Set 7 | zverinogolovskoye\n",
      "Processing Record 33 of Set 7 | nantucket\n",
      "Processing Record 34 of Set 7 | rawson\n",
      "Processing Record 35 of Set 7 | geraldton\n",
      "Processing Record 36 of Set 7 | naberera\n",
      "Processing Record 37 of Set 7 | alofi\n",
      "Processing Record 38 of Set 7 | tiksi\n",
      "Processing Record 39 of Set 7 | beloha\n",
      "Processing Record 40 of Set 7 | nikolskoye\n",
      "Processing Record 41 of Set 7 | yaviza\n",
      "Processing Record 42 of Set 7 | forio\n",
      "Processing Record 43 of Set 7 | marienburg\n",
      "Processing Record 44 of Set 7 | namibe\n",
      "Processing Record 45 of Set 7 | kathmandu\n",
      "Processing Record 46 of Set 7 | huarmey\n",
      "Processing Record 47 of Set 7 | longyearbyen\n",
      "Processing Record 48 of Set 7 | eregli\n",
      "Processing Record 49 of Set 7 | kandrian\n",
      "Processing Record 50 of Set 7 | saldanha\n",
      "Processing Record 1 of Set 8 | kruisfontein\n",
      "Processing Record 2 of Set 8 | saint-philippe\n",
      "Processing Record 3 of Set 8 | zilair\n",
      "Processing Record 4 of Set 8 | narrabri\n",
      "Processing Record 5 of Set 8 | comodoro rivadavia\n",
      "Processing Record 6 of Set 8 | beringovskiy\n",
      "Processing Record 7 of Set 8 | portel\n",
      "Processing Record 8 of Set 8 | halifax\n",
      "Processing Record 9 of Set 8 | pokrovsk-uralskiy\n",
      "City not found. Skipping...\n",
      "Processing Record 10 of Set 8 | rostaq\n",
      "City not found. Skipping...\n",
      "Processing Record 11 of Set 8 | ulefoss\n",
      "Processing Record 12 of Set 8 | bocas del toro\n",
      "Processing Record 13 of Set 8 | ajdabiya\n",
      "Processing Record 14 of Set 8 | alyangula\n",
      "Processing Record 15 of Set 8 | vaitupu\n",
      "City not found. Skipping...\n",
      "Processing Record 16 of Set 8 | ayan\n",
      "Processing Record 17 of Set 8 | petauke\n",
      "Processing Record 18 of Set 8 | christchurch\n",
      "Processing Record 19 of Set 8 | los llanos de aridane\n",
      "Processing Record 20 of Set 8 | penzance\n",
      "Processing Record 21 of Set 8 | aksarka\n",
      "Processing Record 22 of Set 8 | luanda\n",
      "Processing Record 23 of Set 8 | sur\n",
      "Processing Record 24 of Set 8 | japura\n",
      "Processing Record 25 of Set 8 | phan rang\n",
      "City not found. Skipping...\n",
      "Processing Record 26 of Set 8 | agadir\n",
      "Processing Record 27 of Set 8 | valea marului\n",
      "City not found. Skipping...\n",
      "Processing Record 28 of Set 8 | umzimvubu\n",
      "City not found. Skipping...\n",
      "Processing Record 29 of Set 8 | honningsvag\n"
     ]
    },
    {
     "name": "stdout",
     "output_type": "stream",
     "text": [
      "Processing Record 30 of Set 8 | halalo\n",
      "City not found. Skipping...\n",
      "Processing Record 31 of Set 8 | mucuri\n",
      "Processing Record 32 of Set 8 | porto novo\n",
      "Processing Record 33 of Set 8 | bridlington\n",
      "Processing Record 34 of Set 8 | shasta lake\n",
      "Processing Record 35 of Set 8 | kourou\n",
      "Processing Record 36 of Set 8 | te anau\n",
      "Processing Record 37 of Set 8 | puerto escondido\n",
      "Processing Record 38 of Set 8 | saint-gaudens\n",
      "Processing Record 39 of Set 8 | necochea\n",
      "Processing Record 40 of Set 8 | karakol\n",
      "Processing Record 41 of Set 8 | broome\n",
      "Processing Record 42 of Set 8 | mogadishu\n",
      "Processing Record 43 of Set 8 | nchelenge\n",
      "Processing Record 44 of Set 8 | east london\n",
      "Processing Record 45 of Set 8 | puqi\n",
      "Processing Record 46 of Set 8 | solnechnyy\n",
      "Processing Record 47 of Set 8 | kloulklubed\n",
      "Processing Record 48 of Set 8 | barroquinha\n",
      "Processing Record 49 of Set 8 | glendive\n",
      "Processing Record 50 of Set 8 | palencia\n",
      "Processing Record 1 of Set 9 | takoradi\n",
      "Processing Record 2 of Set 9 | santiago\n",
      "Processing Record 3 of Set 9 | redcar\n",
      "Processing Record 4 of Set 9 | talakan\n",
      "Processing Record 5 of Set 9 | burla\n",
      "Processing Record 6 of Set 9 | kalmunai\n",
      "Processing Record 7 of Set 9 | enkoping\n",
      "Processing Record 8 of Set 9 | nizwa\n",
      "Processing Record 9 of Set 9 | port hardy\n",
      "Processing Record 10 of Set 9 | carbonia\n",
      "Processing Record 11 of Set 9 | vila velha\n",
      "Processing Record 12 of Set 9 | bengkulu\n",
      "Processing Record 13 of Set 9 | concepcion del oro\n",
      "Processing Record 14 of Set 9 | qui nhon\n",
      "Processing Record 15 of Set 9 | pedasi\n",
      "Processing Record 16 of Set 9 | zhaotong\n",
      "Processing Record 17 of Set 9 | ulaangom\n",
      "Processing Record 18 of Set 9 | barcelos\n",
      "Processing Record 19 of Set 9 | yueyang\n",
      "Processing Record 20 of Set 9 | manokwari\n",
      "Processing Record 21 of Set 9 | sinegorskiy\n",
      "Processing Record 22 of Set 9 | arinos\n",
      "Processing Record 23 of Set 9 | pangody\n",
      "Processing Record 24 of Set 9 | seybaplaya\n",
      "Processing Record 25 of Set 9 | bay roberts\n",
      "Processing Record 26 of Set 9 | vung tau\n",
      "Processing Record 27 of Set 9 | ust-koksa\n",
      "Processing Record 28 of Set 9 | okhotsk\n",
      "Processing Record 29 of Set 9 | ternate\n",
      "Processing Record 30 of Set 9 | labrea\n",
      "Processing Record 31 of Set 9 | morgan city\n",
      "Processing Record 32 of Set 9 | yelizovo\n",
      "Processing Record 33 of Set 9 | maues\n",
      "Processing Record 34 of Set 9 | namatanai\n",
      "Processing Record 35 of Set 9 | ornskoldsvik\n",
      "Processing Record 36 of Set 9 | hovd\n",
      "Processing Record 37 of Set 9 | nanyang\n",
      "Processing Record 38 of Set 9 | tautira\n",
      "Processing Record 39 of Set 9 | utiroa\n",
      "City not found. Skipping...\n",
      "Processing Record 40 of Set 9 | viligili\n",
      "City not found. Skipping...\n",
      "Processing Record 41 of Set 9 | hambantota\n",
      "Processing Record 42 of Set 9 | cesme\n",
      "Processing Record 43 of Set 9 | bossembele\n",
      "City not found. Skipping...\n",
      "Processing Record 44 of Set 9 | yarmouth\n",
      "Processing Record 45 of Set 9 | kastamonu\n",
      "Processing Record 46 of Set 9 | sawara\n",
      "Processing Record 47 of Set 9 | bokspits\n",
      "City not found. Skipping...\n",
      "Processing Record 48 of Set 9 | aginskoye\n",
      "Processing Record 49 of Set 9 | virginia beach\n",
      "Processing Record 50 of Set 9 | port hedland\n",
      "Processing Record 1 of Set 10 | hami\n",
      "Processing Record 2 of Set 10 | grindavik\n",
      "Processing Record 3 of Set 10 | liberal\n",
      "Processing Record 4 of Set 10 | pisco\n",
      "Processing Record 5 of Set 10 | willowmore\n",
      "Processing Record 6 of Set 10 | kuching\n",
      "Processing Record 7 of Set 10 | bitung\n",
      "Processing Record 8 of Set 10 | fairbanks\n",
      "Processing Record 9 of Set 10 | warmbad\n",
      "Processing Record 10 of Set 10 | havre-saint-pierre\n",
      "Processing Record 11 of Set 10 | mitsamiouli\n",
      "Processing Record 12 of Set 10 | seoul\n",
      "Processing Record 13 of Set 10 | ipixuna\n",
      "Processing Record 14 of Set 10 | nuqui\n",
      "Processing Record 15 of Set 10 | qasigiannguit\n",
      "Processing Record 16 of Set 10 | ojinaga\n",
      "Processing Record 17 of Set 10 | lalmohan\n",
      "Processing Record 18 of Set 10 | little current\n",
      "Processing Record 19 of Set 10 | jumla\n",
      "Processing Record 20 of Set 10 | mersing\n",
      "Processing Record 21 of Set 10 | telimele\n",
      "Processing Record 22 of Set 10 | milingimbi\n",
      "City not found. Skipping...\n",
      "Processing Record 23 of Set 10 | asilah\n",
      "Processing Record 24 of Set 10 | san vicente\n",
      "Processing Record 25 of Set 10 | lagoa\n",
      "Processing Record 26 of Set 10 | bambous virieux\n",
      "Processing Record 27 of Set 10 | buala\n",
      "Processing Record 28 of Set 10 | whitecourt\n",
      "Processing Record 29 of Set 10 | payo\n",
      "Processing Record 30 of Set 10 | shingu\n",
      "Processing Record 31 of Set 10 | san quintin\n",
      "Processing Record 32 of Set 10 | cabedelo\n",
      "Processing Record 33 of Set 10 | cururupu\n",
      "Processing Record 34 of Set 10 | rapid valley\n",
      "Processing Record 35 of Set 10 | san rafael\n",
      "Processing Record 36 of Set 10 | cockburn town\n",
      "Processing Record 37 of Set 10 | anloga\n",
      "Processing Record 38 of Set 10 | ormara\n",
      "Processing Record 39 of Set 10 | kushalgarh\n",
      "Processing Record 40 of Set 10 | buraydah\n",
      "Processing Record 41 of Set 10 | limbang\n",
      "Processing Record 42 of Set 10 | yuzhnyy\n",
      "Processing Record 43 of Set 10 | qaqortoq\n",
      "Processing Record 44 of Set 10 | puerto cabezas\n",
      "Processing Record 45 of Set 10 | kajaani\n",
      "Processing Record 46 of Set 10 | mitu\n",
      "Processing Record 47 of Set 10 | askiz\n",
      "Processing Record 48 of Set 10 | damietta\n",
      "Processing Record 49 of Set 10 | manaure\n",
      "Processing Record 50 of Set 10 | flower mound\n",
      "Processing Record 1 of Set 11 | lavumisa\n",
      "Processing Record 2 of Set 11 | baoro\n",
      "Processing Record 3 of Set 11 | roald\n",
      "Processing Record 4 of Set 11 | berbera\n",
      "Processing Record 5 of Set 11 | asyut\n",
      "Processing Record 6 of Set 11 | mendi\n",
      "Processing Record 7 of Set 11 | tawnat\n",
      "City not found. Skipping...\n",
      "Processing Record 8 of Set 11 | maldonado\n",
      "Processing Record 9 of Set 11 | manicore\n",
      "Processing Record 10 of Set 11 | kalianget\n",
      "Processing Record 11 of Set 11 | fevralsk\n",
      "City not found. Skipping...\n",
      "Processing Record 12 of Set 11 | kysyl-syr\n",
      "Processing Record 13 of Set 11 | phalaborwa\n",
      "Processing Record 14 of Set 11 | pleasanton\n",
      "Processing Record 15 of Set 11 | adrar\n",
      "Processing Record 16 of Set 11 | luganville\n",
      "Processing Record 17 of Set 11 | westerland\n",
      "Processing Record 18 of Set 11 | vilcun\n",
      "Processing Record 19 of Set 11 | oda\n",
      "Processing Record 20 of Set 11 | ngukurr\n",
      "City not found. Skipping...\n",
      "Processing Record 21 of Set 11 | rungata\n",
      "City not found. Skipping...\n",
      "Processing Record 22 of Set 11 | rees\n",
      "Processing Record 23 of Set 11 | sabya\n",
      "Processing Record 24 of Set 11 | zhob\n",
      "Processing Record 25 of Set 11 | sao jose de ribamar\n",
      "Processing Record 26 of Set 11 | katsuura\n",
      "Processing Record 27 of Set 11 | tambura\n",
      "Processing Record 28 of Set 11 | kalabo\n",
      "Processing Record 29 of Set 11 | tucurui\n",
      "Processing Record 30 of Set 11 | jalu\n",
      "Processing Record 31 of Set 11 | santiago de cuba\n",
      "Processing Record 32 of Set 11 | kupang\n",
      "Processing Record 33 of Set 11 | tatishchevo\n",
      "Processing Record 34 of Set 11 | bida\n",
      "Processing Record 35 of Set 11 | meulaboh\n",
      "Processing Record 36 of Set 11 | saint-pierre\n",
      "Processing Record 37 of Set 11 | pendleton\n",
      "Processing Record 38 of Set 11 | la peca\n",
      "Processing Record 39 of Set 11 | union\n",
      "Processing Record 40 of Set 11 | vostok\n",
      "Processing Record 41 of Set 11 | port augusta\n",
      "Processing Record 42 of Set 11 | lerwick\n",
      "Processing Record 43 of Set 11 | gap\n",
      "Processing Record 44 of Set 11 | kangaatsiaq\n",
      "Processing Record 45 of Set 11 | constitucion\n",
      "Processing Record 46 of Set 11 | praia da vitoria\n",
      "Processing Record 47 of Set 11 | zhigansk\n",
      "Processing Record 48 of Set 11 | jiuquan\n",
      "Processing Record 49 of Set 11 | rio gallegos\n",
      "Processing Record 50 of Set 11 | xunchang\n",
      "Processing Record 1 of Set 12 | birao\n",
      "Processing Record 2 of Set 12 | shiyan\n",
      "Processing Record 3 of Set 12 | carballo\n",
      "Processing Record 4 of Set 12 | mariental\n",
      "Processing Record 5 of Set 12 | yukhnov\n",
      "Processing Record 6 of Set 12 | kalabugao\n",
      "City not found. Skipping...\n",
      "Processing Record 7 of Set 12 | pemba\n",
      "Processing Record 8 of Set 12 | svetlaya\n",
      "Processing Record 9 of Set 12 | fuengirola\n",
      "Processing Record 10 of Set 12 | monterey\n",
      "Processing Record 11 of Set 12 | batamshinskiy\n",
      "Processing Record 12 of Set 12 | gizo\n",
      "Processing Record 13 of Set 12 | darovskoy\n",
      "Processing Record 14 of Set 12 | bjornevatn\n",
      "Processing Record 15 of Set 12 | surt\n",
      "Processing Record 16 of Set 12 | say\n",
      "Processing Record 17 of Set 12 | russell\n",
      "Processing Record 18 of Set 12 | cidreira\n",
      "Processing Record 19 of Set 12 | palmer\n"
     ]
    },
    {
     "name": "stdout",
     "output_type": "stream",
     "text": [
      "Processing Record 20 of Set 12 | tamsalu\n",
      "Processing Record 21 of Set 12 | cimislia\n",
      "Processing Record 22 of Set 12 | aden\n",
      "Processing Record 23 of Set 12 | erzin\n",
      "Processing Record 24 of Set 12 | kushiro\n",
      "Processing Record 25 of Set 12 | zhangye\n",
      "Processing Record 26 of Set 12 | timra\n",
      "Processing Record 27 of Set 12 | vuktyl\n",
      "Processing Record 28 of Set 12 | show low\n",
      "Processing Record 29 of Set 12 | dalby\n",
      "Processing Record 30 of Set 12 | bandarbeyla\n",
      "Processing Record 31 of Set 12 | troitsk\n",
      "Processing Record 32 of Set 12 | ruteng\n",
      "Processing Record 33 of Set 12 | astoria\n",
      "Processing Record 34 of Set 12 | rawannawi\n",
      "City not found. Skipping...\n",
      "Processing Record 35 of Set 12 | sao jose da coroa grande\n",
      "Processing Record 36 of Set 12 | georgiyevka\n",
      "Processing Record 37 of Set 12 | gurskoye\n",
      "City not found. Skipping...\n",
      "Processing Record 38 of Set 12 | north platte\n",
      "Processing Record 39 of Set 12 | arauca\n",
      "Processing Record 40 of Set 12 | antissa\n",
      "City not found. Skipping...\n",
      "Processing Record 41 of Set 12 | amga\n",
      "Processing Record 42 of Set 12 | saleaula\n",
      "City not found. Skipping...\n",
      "Processing Record 43 of Set 12 | welkom\n",
      "Processing Record 44 of Set 12 | kuju\n",
      "Processing Record 45 of Set 12 | jinxi\n",
      "Processing Record 46 of Set 12 | kungurtug\n",
      "Processing Record 47 of Set 12 | marovoay\n",
      "Processing Record 48 of Set 12 | huayang\n",
      "Processing Record 49 of Set 12 | bireun\n",
      "Processing Record 50 of Set 12 | batagay\n",
      "Processing Record 1 of Set 13 | chake chake\n",
      "Processing Record 2 of Set 13 | komsomolets\n",
      "Processing Record 3 of Set 13 | broken hill\n",
      "Processing Record 4 of Set 13 | colesberg\n",
      "Processing Record 5 of Set 13 | axim\n",
      "Processing Record 6 of Set 13 | lazi\n",
      "Processing Record 7 of Set 13 | harnosand\n",
      "Processing Record 8 of Set 13 | yenagoa\n",
      "Processing Record 9 of Set 13 | hue\n",
      "Processing Record 10 of Set 13 | mogok\n",
      "Processing Record 11 of Set 13 | igarape-miri\n",
      "City not found. Skipping...\n",
      "Processing Record 12 of Set 13 | westport\n",
      "Processing Record 13 of Set 13 | riachao das neves\n",
      "Processing Record 14 of Set 13 | ola\n",
      "Processing Record 15 of Set 13 | yulara\n",
      "Processing Record 16 of Set 13 | mwingi\n",
      "Processing Record 17 of Set 13 | pecos\n",
      "Processing Record 18 of Set 13 | ponta delgada\n",
      "Processing Record 19 of Set 13 | oliveira dos brejinhos\n",
      "Processing Record 20 of Set 13 | piedade\n",
      "Processing Record 21 of Set 13 | bilibino\n",
      "Processing Record 22 of Set 13 | chapais\n",
      "Processing Record 23 of Set 13 | satitoa\n",
      "City not found. Skipping...\n",
      "Processing Record 24 of Set 13 | knin\n",
      "Processing Record 25 of Set 13 | usoke\n",
      "Processing Record 26 of Set 13 | landeck\n",
      "Processing Record 27 of Set 13 | southbridge\n",
      "Processing Record 28 of Set 13 | yurginskoye\n",
      "Processing Record 29 of Set 13 | hamilton\n",
      "Processing Record 30 of Set 13 | clyde river\n",
      "Processing Record 31 of Set 13 | nylstroom\n",
      "City not found. Skipping...\n",
      "Processing Record 32 of Set 13 | komsomolskiy\n",
      "Processing Record 33 of Set 13 | karratha\n",
      "-----------------------------\n",
      "Data Retrieval Complete      \n",
      "-----------------------------\n"
     ]
    }
   ],
   "source": [
    "# Loop through all the cities in the list.\n",
    "for i, city in enumerate(cities):\n",
    "\n",
    "    # Group cities in sets of 50 for logging purposes.\n",
    "    if (i % 50 == 0 and i >= 50):\n",
    "        set_count += 1\n",
    "        record_count = 1\n",
    "    # Create endpoint URL with each city.\n",
    "    city_url = url + \"&q=\" + city.replace(\" \",\"+\")\n",
    "\n",
    "    # Log the URL, record, and set numbers and the city.\n",
    "    print(f\"Processing Record {record_count} of Set {set_count} | {city}\")\n",
    "    # Add 1 to the record count.\n",
    "    record_count += 1\n",
    "    # Run an API request for each of the cities.\n",
    "    try:\n",
    "        # Parse the JSON and retrieve data.\n",
    "        city_weather = requests.get(city_url).json()\n",
    "        # Parse out the needed data.\n",
    "        city_lat = city_weather[\"coord\"][\"lat\"]\n",
    "        city_lng = city_weather[\"coord\"][\"lon\"]\n",
    "        city_max_temp = city_weather[\"main\"][\"temp_max\"]\n",
    "        city_humidity = city_weather[\"main\"][\"humidity\"]\n",
    "        city_clouds = city_weather[\"clouds\"][\"all\"]\n",
    "        city_wind = city_weather[\"wind\"][\"speed\"]\n",
    "        city_country = city_weather[\"sys\"][\"country\"]\n",
    "        # Convert the date to ISO standard.\n",
    "        city_date = datetime.utcfromtimestamp(city_weather[\"dt\"]).strftime('%Y-%m-%d %H:%M:%S')\n",
    "        # Append the city information into city_data list.\n",
    "        city_data.append({\"City\": city.title(),\n",
    "                          \"Lat\": city_lat,\n",
    "                          \"Lng\": city_lng,\n",
    "                          \"Max Temp\": city_max_temp,\n",
    "                          \"Humidity\": city_humidity,\n",
    "                          \"Cloudiness\": city_clouds,\n",
    "                          \"Wind Speed\": city_wind,\n",
    "                          \"Country\": city_country,\n",
    "                          \"Date\": city_date})\n",
    "\n",
    "# If an error is experienced, skip the city.\n",
    "    except:\n",
    "        print(\"City not found. Skipping...\")\n",
    "        pass\n",
    "\n",
    "# Indicate that Data Loading is complete.\n",
    "print(\"-----------------------------\")\n",
    "print(\"Data Retrieval Complete      \")\n",
    "print(\"-----------------------------\")"
   ]
  },
  {
   "cell_type": "code",
   "execution_count": 68,
   "id": "f99fc608",
   "metadata": {},
   "outputs": [
    {
     "data": {
      "text/html": [
       "<div>\n",
       "<style scoped>\n",
       "    .dataframe tbody tr th:only-of-type {\n",
       "        vertical-align: middle;\n",
       "    }\n",
       "\n",
       "    .dataframe tbody tr th {\n",
       "        vertical-align: top;\n",
       "    }\n",
       "\n",
       "    .dataframe thead th {\n",
       "        text-align: right;\n",
       "    }\n",
       "</style>\n",
       "<table border=\"1\" class=\"dataframe\">\n",
       "  <thead>\n",
       "    <tr style=\"text-align: right;\">\n",
       "      <th></th>\n",
       "      <th>City</th>\n",
       "      <th>Lat</th>\n",
       "      <th>Lng</th>\n",
       "      <th>Max Temp</th>\n",
       "      <th>Humidity</th>\n",
       "      <th>Cloudiness</th>\n",
       "      <th>Wind Speed</th>\n",
       "      <th>Country</th>\n",
       "      <th>Date</th>\n",
       "    </tr>\n",
       "  </thead>\n",
       "  <tbody>\n",
       "    <tr>\n",
       "      <th>0</th>\n",
       "      <td>Vaini</td>\n",
       "      <td>-21.2000</td>\n",
       "      <td>-175.2000</td>\n",
       "      <td>69.96</td>\n",
       "      <td>78</td>\n",
       "      <td>75</td>\n",
       "      <td>8.05</td>\n",
       "      <td>TO</td>\n",
       "      <td>2021-09-25 14:55:42</td>\n",
       "    </tr>\n",
       "    <tr>\n",
       "      <th>1</th>\n",
       "      <td>Gushikawa</td>\n",
       "      <td>26.3544</td>\n",
       "      <td>127.8686</td>\n",
       "      <td>83.43</td>\n",
       "      <td>94</td>\n",
       "      <td>1</td>\n",
       "      <td>6.91</td>\n",
       "      <td>JP</td>\n",
       "      <td>2021-09-25 14:55:42</td>\n",
       "    </tr>\n",
       "    <tr>\n",
       "      <th>2</th>\n",
       "      <td>Arlit</td>\n",
       "      <td>18.7369</td>\n",
       "      <td>7.3853</td>\n",
       "      <td>103.10</td>\n",
       "      <td>6</td>\n",
       "      <td>2</td>\n",
       "      <td>8.52</td>\n",
       "      <td>NE</td>\n",
       "      <td>2021-09-25 14:55:42</td>\n",
       "    </tr>\n",
       "    <tr>\n",
       "      <th>3</th>\n",
       "      <td>Mataura</td>\n",
       "      <td>-46.1927</td>\n",
       "      <td>168.8643</td>\n",
       "      <td>39.47</td>\n",
       "      <td>98</td>\n",
       "      <td>90</td>\n",
       "      <td>4.32</td>\n",
       "      <td>NZ</td>\n",
       "      <td>2021-09-25 14:54:13</td>\n",
       "    </tr>\n",
       "    <tr>\n",
       "      <th>4</th>\n",
       "      <td>Punta Arenas</td>\n",
       "      <td>-53.1500</td>\n",
       "      <td>-70.9167</td>\n",
       "      <td>41.11</td>\n",
       "      <td>65</td>\n",
       "      <td>75</td>\n",
       "      <td>17.27</td>\n",
       "      <td>CL</td>\n",
       "      <td>2021-09-25 14:52:24</td>\n",
       "    </tr>\n",
       "    <tr>\n",
       "      <th>5</th>\n",
       "      <td>Sitka</td>\n",
       "      <td>57.0531</td>\n",
       "      <td>-135.3300</td>\n",
       "      <td>46.29</td>\n",
       "      <td>87</td>\n",
       "      <td>75</td>\n",
       "      <td>9.22</td>\n",
       "      <td>US</td>\n",
       "      <td>2021-09-25 14:55:43</td>\n",
       "    </tr>\n",
       "    <tr>\n",
       "      <th>6</th>\n",
       "      <td>Yellowknife</td>\n",
       "      <td>62.4560</td>\n",
       "      <td>-114.3525</td>\n",
       "      <td>45.41</td>\n",
       "      <td>100</td>\n",
       "      <td>90</td>\n",
       "      <td>5.75</td>\n",
       "      <td>CA</td>\n",
       "      <td>2021-09-25 14:55:43</td>\n",
       "    </tr>\n",
       "    <tr>\n",
       "      <th>7</th>\n",
       "      <td>Bata</td>\n",
       "      <td>1.8639</td>\n",
       "      <td>9.7658</td>\n",
       "      <td>79.27</td>\n",
       "      <td>78</td>\n",
       "      <td>98</td>\n",
       "      <td>7.63</td>\n",
       "      <td>GQ</td>\n",
       "      <td>2021-09-25 14:55:43</td>\n",
       "    </tr>\n",
       "    <tr>\n",
       "      <th>8</th>\n",
       "      <td>New Norfolk</td>\n",
       "      <td>-42.7826</td>\n",
       "      <td>147.0587</td>\n",
       "      <td>41.92</td>\n",
       "      <td>69</td>\n",
       "      <td>12</td>\n",
       "      <td>1.99</td>\n",
       "      <td>AU</td>\n",
       "      <td>2021-09-25 14:55:43</td>\n",
       "    </tr>\n",
       "    <tr>\n",
       "      <th>9</th>\n",
       "      <td>Port Alfred</td>\n",
       "      <td>-33.5906</td>\n",
       "      <td>26.8910</td>\n",
       "      <td>70.47</td>\n",
       "      <td>71</td>\n",
       "      <td>100</td>\n",
       "      <td>2.08</td>\n",
       "      <td>ZA</td>\n",
       "      <td>2021-09-25 14:54:12</td>\n",
       "    </tr>\n",
       "  </tbody>\n",
       "</table>\n",
       "</div>"
      ],
      "text/plain": [
       "           City      Lat       Lng  Max Temp  Humidity  Cloudiness  \\\n",
       "0         Vaini -21.2000 -175.2000     69.96        78          75   \n",
       "1     Gushikawa  26.3544  127.8686     83.43        94           1   \n",
       "2         Arlit  18.7369    7.3853    103.10         6           2   \n",
       "3       Mataura -46.1927  168.8643     39.47        98          90   \n",
       "4  Punta Arenas -53.1500  -70.9167     41.11        65          75   \n",
       "5         Sitka  57.0531 -135.3300     46.29        87          75   \n",
       "6   Yellowknife  62.4560 -114.3525     45.41       100          90   \n",
       "7          Bata   1.8639    9.7658     79.27        78          98   \n",
       "8   New Norfolk -42.7826  147.0587     41.92        69          12   \n",
       "9   Port Alfred -33.5906   26.8910     70.47        71         100   \n",
       "\n",
       "   Wind Speed Country                 Date  \n",
       "0        8.05      TO  2021-09-25 14:55:42  \n",
       "1        6.91      JP  2021-09-25 14:55:42  \n",
       "2        8.52      NE  2021-09-25 14:55:42  \n",
       "3        4.32      NZ  2021-09-25 14:54:13  \n",
       "4       17.27      CL  2021-09-25 14:52:24  \n",
       "5        9.22      US  2021-09-25 14:55:43  \n",
       "6        5.75      CA  2021-09-25 14:55:43  \n",
       "7        7.63      GQ  2021-09-25 14:55:43  \n",
       "8        1.99      AU  2021-09-25 14:55:43  \n",
       "9        2.08      ZA  2021-09-25 14:54:12  "
      ]
     },
     "execution_count": 68,
     "metadata": {},
     "output_type": "execute_result"
    }
   ],
   "source": [
    "# Convert the array of dictionaries to a Pandas DataFrame.\n",
    "city_data_df = pd.DataFrame(city_data)\n",
    "city_data_df.head(10)"
   ]
  },
  {
   "cell_type": "code",
   "execution_count": 87,
   "id": "89128654",
   "metadata": {},
   "outputs": [
    {
     "data": {
      "text/html": [
       "<div>\n",
       "<style scoped>\n",
       "    .dataframe tbody tr th:only-of-type {\n",
       "        vertical-align: middle;\n",
       "    }\n",
       "\n",
       "    .dataframe tbody tr th {\n",
       "        vertical-align: top;\n",
       "    }\n",
       "\n",
       "    .dataframe thead th {\n",
       "        text-align: right;\n",
       "    }\n",
       "</style>\n",
       "<table border=\"1\" class=\"dataframe\">\n",
       "  <thead>\n",
       "    <tr style=\"text-align: right;\">\n",
       "      <th></th>\n",
       "      <th>City</th>\n",
       "      <th>Country</th>\n",
       "      <th>Date</th>\n",
       "      <th>Lat</th>\n",
       "      <th>Lng</th>\n",
       "      <th>Max Temp</th>\n",
       "      <th>Humidity</th>\n",
       "      <th>Cloudiness</th>\n",
       "      <th>Wind Speed</th>\n",
       "    </tr>\n",
       "  </thead>\n",
       "  <tbody>\n",
       "    <tr>\n",
       "      <th>0</th>\n",
       "      <td>Vaini</td>\n",
       "      <td>TO</td>\n",
       "      <td>2021-09-25 14:55:42</td>\n",
       "      <td>-21.2000</td>\n",
       "      <td>-175.2000</td>\n",
       "      <td>69.96</td>\n",
       "      <td>78</td>\n",
       "      <td>75</td>\n",
       "      <td>8.05</td>\n",
       "    </tr>\n",
       "    <tr>\n",
       "      <th>1</th>\n",
       "      <td>Gushikawa</td>\n",
       "      <td>JP</td>\n",
       "      <td>2021-09-25 14:55:42</td>\n",
       "      <td>26.3544</td>\n",
       "      <td>127.8686</td>\n",
       "      <td>83.43</td>\n",
       "      <td>94</td>\n",
       "      <td>1</td>\n",
       "      <td>6.91</td>\n",
       "    </tr>\n",
       "    <tr>\n",
       "      <th>2</th>\n",
       "      <td>Arlit</td>\n",
       "      <td>NE</td>\n",
       "      <td>2021-09-25 14:55:42</td>\n",
       "      <td>18.7369</td>\n",
       "      <td>7.3853</td>\n",
       "      <td>103.10</td>\n",
       "      <td>6</td>\n",
       "      <td>2</td>\n",
       "      <td>8.52</td>\n",
       "    </tr>\n",
       "    <tr>\n",
       "      <th>3</th>\n",
       "      <td>Mataura</td>\n",
       "      <td>NZ</td>\n",
       "      <td>2021-09-25 14:54:13</td>\n",
       "      <td>-46.1927</td>\n",
       "      <td>168.8643</td>\n",
       "      <td>39.47</td>\n",
       "      <td>98</td>\n",
       "      <td>90</td>\n",
       "      <td>4.32</td>\n",
       "    </tr>\n",
       "    <tr>\n",
       "      <th>4</th>\n",
       "      <td>Punta Arenas</td>\n",
       "      <td>CL</td>\n",
       "      <td>2021-09-25 14:52:24</td>\n",
       "      <td>-53.1500</td>\n",
       "      <td>-70.9167</td>\n",
       "      <td>41.11</td>\n",
       "      <td>65</td>\n",
       "      <td>75</td>\n",
       "      <td>17.27</td>\n",
       "    </tr>\n",
       "    <tr>\n",
       "      <th>5</th>\n",
       "      <td>Sitka</td>\n",
       "      <td>US</td>\n",
       "      <td>2021-09-25 14:55:43</td>\n",
       "      <td>57.0531</td>\n",
       "      <td>-135.3300</td>\n",
       "      <td>46.29</td>\n",
       "      <td>87</td>\n",
       "      <td>75</td>\n",
       "      <td>9.22</td>\n",
       "    </tr>\n",
       "    <tr>\n",
       "      <th>6</th>\n",
       "      <td>Yellowknife</td>\n",
       "      <td>CA</td>\n",
       "      <td>2021-09-25 14:55:43</td>\n",
       "      <td>62.4560</td>\n",
       "      <td>-114.3525</td>\n",
       "      <td>45.41</td>\n",
       "      <td>100</td>\n",
       "      <td>90</td>\n",
       "      <td>5.75</td>\n",
       "    </tr>\n",
       "    <tr>\n",
       "      <th>7</th>\n",
       "      <td>Bata</td>\n",
       "      <td>GQ</td>\n",
       "      <td>2021-09-25 14:55:43</td>\n",
       "      <td>1.8639</td>\n",
       "      <td>9.7658</td>\n",
       "      <td>79.27</td>\n",
       "      <td>78</td>\n",
       "      <td>98</td>\n",
       "      <td>7.63</td>\n",
       "    </tr>\n",
       "    <tr>\n",
       "      <th>8</th>\n",
       "      <td>New Norfolk</td>\n",
       "      <td>AU</td>\n",
       "      <td>2021-09-25 14:55:43</td>\n",
       "      <td>-42.7826</td>\n",
       "      <td>147.0587</td>\n",
       "      <td>41.92</td>\n",
       "      <td>69</td>\n",
       "      <td>12</td>\n",
       "      <td>1.99</td>\n",
       "    </tr>\n",
       "    <tr>\n",
       "      <th>9</th>\n",
       "      <td>Port Alfred</td>\n",
       "      <td>ZA</td>\n",
       "      <td>2021-09-25 14:54:12</td>\n",
       "      <td>-33.5906</td>\n",
       "      <td>26.8910</td>\n",
       "      <td>70.47</td>\n",
       "      <td>71</td>\n",
       "      <td>100</td>\n",
       "      <td>2.08</td>\n",
       "    </tr>\n",
       "  </tbody>\n",
       "</table>\n",
       "</div>"
      ],
      "text/plain": [
       "           City Country                 Date      Lat       Lng  Max Temp  \\\n",
       "0         Vaini      TO  2021-09-25 14:55:42 -21.2000 -175.2000     69.96   \n",
       "1     Gushikawa      JP  2021-09-25 14:55:42  26.3544  127.8686     83.43   \n",
       "2         Arlit      NE  2021-09-25 14:55:42  18.7369    7.3853    103.10   \n",
       "3       Mataura      NZ  2021-09-25 14:54:13 -46.1927  168.8643     39.47   \n",
       "4  Punta Arenas      CL  2021-09-25 14:52:24 -53.1500  -70.9167     41.11   \n",
       "5         Sitka      US  2021-09-25 14:55:43  57.0531 -135.3300     46.29   \n",
       "6   Yellowknife      CA  2021-09-25 14:55:43  62.4560 -114.3525     45.41   \n",
       "7          Bata      GQ  2021-09-25 14:55:43   1.8639    9.7658     79.27   \n",
       "8   New Norfolk      AU  2021-09-25 14:55:43 -42.7826  147.0587     41.92   \n",
       "9   Port Alfred      ZA  2021-09-25 14:54:12 -33.5906   26.8910     70.47   \n",
       "\n",
       "   Humidity  Cloudiness  Wind Speed  \n",
       "0        78          75        8.05  \n",
       "1        94           1        6.91  \n",
       "2         6           2        8.52  \n",
       "3        98          90        4.32  \n",
       "4        65          75       17.27  \n",
       "5        87          75        9.22  \n",
       "6       100          90        5.75  \n",
       "7        78          98        7.63  \n",
       "8        69          12        1.99  \n",
       "9        71         100        2.08  "
      ]
     },
     "execution_count": 87,
     "metadata": {},
     "output_type": "execute_result"
    }
   ],
   "source": [
    "city_data_df = city_data_df[['City', 'Country', 'Date',  'Lat',  'Lng', 'Max Temp', 'Humidity', 'Cloudiness', 'Wind Speed']]\n",
    "city_data_df.head(10)"
   ]
  },
  {
   "cell_type": "code",
   "execution_count": 86,
   "id": "053c7153",
   "metadata": {},
   "outputs": [],
   "source": [
    "# Create the output file (CSV).\n",
    "output_data_file = \"weather_data/cities.csv\"\n",
    "# Export the City_Data into a CSV.\n",
    "city_data_df.to_csv(output_data_file, index_label=\"City_ID\")"
   ]
  },
  {
   "cell_type": "code",
   "execution_count": 88,
   "id": "8078cde3",
   "metadata": {},
   "outputs": [],
   "source": [
    "# Extract relevant fields from the DataFrame for plotting.\n",
    "lats = city_data_df[\"Lat\"]\n",
    "max_temps = city_data_df[\"Max Temp\"]\n",
    "humidity = city_data_df[\"Humidity\"]\n",
    "cloudiness = city_data_df[\"Cloudiness\"]\n",
    "wind_speed = city_data_df[\"Wind Speed\"]"
   ]
  },
  {
   "cell_type": "code",
   "execution_count": 90,
   "id": "c076bd81",
   "metadata": {},
   "outputs": [
    {
     "data": {
      "text/plain": [
       "'09/25/21'"
      ]
     },
     "execution_count": 90,
     "metadata": {},
     "output_type": "execute_result"
    }
   ],
   "source": [
    "# Import the time module.\n",
    "import time\n",
    "# Get today's date in seconds.\n",
    "today = time.strftime(\"%x\")\n",
    "today"
   ]
  },
  {
   "cell_type": "code",
   "execution_count": 94,
   "id": "a83faa51",
   "metadata": {},
   "outputs": [
    {
     "data": {
      "image/png": "[encoded data removed]",
      "text/plain": [
       "<Figure size 432x288 with 1 Axes>"
      ]
     },
     "metadata": {
      "needs_background": "light"
     },
     "output_type": "display_data"
    }
   ],
   "source": [
    "# Import time module\n",
    "import time\n",
    "\n",
    "# Build the scatter plot for latitude vs. max temperature.\n",
    "plt.scatter(lats,\n",
    "            max_temps,\n",
    "            edgecolor=\"black\", linewidths=1, marker=\"o\",\n",
    "            alpha=0.8, label=\"Cities\")\n",
    "\n",
    "# Incorporate the other graph properties.\n",
    "plt.title(f\"City Latitude vs. Max Temperature \"+ time.strftime(\"%x\"))\n",
    "plt.ylabel(\"Max Temperature (F)\")\n",
    "plt.xlabel(\"Latitude\")\n",
    "plt.grid(True)\n",
    "\n",
    "# Save the figure.\n",
    "plt.savefig(\"weather_data/Fig1.png\")\n",
    "\n",
    "# Show plot.\n",
    "plt.show()"
   ]
  },
  {
   "cell_type": "code",
   "execution_count": 100,
   "id": "f4760231",
   "metadata": {},
   "outputs": [
    {
     "data": {
      "image/png": "[encoded data removed]",
      "text/plain": [
       "<Figure size 432x288 with 1 Axes>"
      ]
     },
     "metadata": {
      "needs_background": "light"
     },
     "output_type": "display_data"
    }
   ],
   "source": [
    "# Build the scatter plots for latitude vs. humidity.\n",
    "plt.scatter(lats,\n",
    "            humidity,\n",
    "            edgecolor=\"black\", linewidths=1, marker=\"o\",\n",
    "            alpha=0.8, label=\"Cities\")\n",
    "\n",
    "# Incorporate the other graph properties.\n",
    "plt.title(f\"City Latitude vs. Humidity \"+ time.strftime(\"%x\"))\n",
    "plt.ylabel(\"Humidity (%)\")\n",
    "plt.xlabel(\"Latitude\")\n",
    "plt.grid(True)\n",
    "# Save the figure.\n",
    "plt.savefig(\"weather_data/Fig2.png\")\n",
    "# Show plot.\n",
    "plt.show()"
   ]
  },
  {
   "cell_type": "code",
   "execution_count": 102,
   "id": "2d405eff",
   "metadata": {},
   "outputs": [
    {
     "data": {
      "image/png": "[encoded data removed]",
      "text/plain": [
       "<Figure size 432x288 with 1 Axes>"
      ]
     },
     "metadata": {
      "needs_background": "light"
     },
     "output_type": "display_data"
    }
   ],
   "source": [
    "# Build the scatter plots for latitude vs. cloudiness.\n",
    "plt.scatter(lats,\n",
    "            cloudiness,\n",
    "            edgecolor=\"black\" , linewidths=1, marker=\"o\",\n",
    "            alpha=0.8, label=\"cities\")\n",
    "\n",
    "# Incorporate the other graph properties.\n",
    "plt.title(f\"City Latitude vs. Cloudiness (%) \"+ time.strftime(\"%x\"))\n",
    "plt.ylabel(\"Cloudiness (%)\")\n",
    "plt.xlabel(\"Latitude\")\n",
    "plt.grid(True)\n",
    "# Save the figure.\n",
    "plt.savefig(\"weather_data/Fig3.png\")\n",
    "# Show plot.\n",
    "plt.show()"
   ]
  },
  {
   "cell_type": "code",
   "execution_count": 103,
   "id": "3dedc252",
   "metadata": {},
   "outputs": [
    {
     "data": {
      "image/png": "[encoded data removed]",
      "text/plain": [
       "<Figure size 432x288 with 1 Axes>"
      ]
     },
     "metadata": {
      "needs_background": "light"
     },
     "output_type": "display_data"
    }
   ],
   "source": [
    "# Build the scatter plots for latitude vs. wind speed.\n",
    "plt.scatter(lats,\n",
    "            wind_speed,\n",
    "            edgecolor=\"black\", linewidths=1, marker=\"o\",\n",
    "            alpha=0.8, label=\"Cities\")\n",
    "\n",
    "# Incorporate the other graph properties.\n",
    "plt.title(f\"City Latitude vs. Wind Speed \"+ time.strftime(\"%x\"))\n",
    "plt.ylabel(\"Wind Speed (mph)\")\n",
    "plt.xlabel(\"Latitude\")\n",
    "plt.grid(True)\n",
    "# Save the figure.\n",
    "plt.savefig(\"weather_data/Fig4.png\")\n",
    "# Show plot.\n",
    "plt.show()"
   ]
  },
  {
   "cell_type": "code",
   "execution_count": null,
   "id": "952b0543",
   "metadata": {},
   "outputs": [],
   "source": []
  }
 ],
 "metadata": {
  "kernelspec": {
   "display_name": "PythonData",
   "language": "python",
   "name": "pythondata"
  },
  "language_info": {
   "codemirror_mode": {
    "name": "ipython",
    "version": 3
   },
   "file_extension": ".py",
   "mimetype": "text/x-python",
   "name": "python",
   "nbconvert_exporter": "python",
   "pygments_lexer": "ipython3",
   "version": "3.8.8"
  }
 },
 "nbformat": 4,
 "nbformat_minor": 5
}
