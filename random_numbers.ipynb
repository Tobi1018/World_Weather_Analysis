{
 "cells": [
  {
   "cell_type": "code",
   "execution_count": 1,
   "id": "9bf40558",
   "metadata": {},
   "outputs": [],
   "source": [
    "# Import the random module.\n",
    "import random"
   ]
  },
  {
   "cell_type": "code",
   "execution_count": 12,
   "id": "e83bce97",
   "metadata": {},
   "outputs": [
    {
     "data": {
      "text/plain": [
       "0.6958930827543398"
      ]
     },
     "execution_count": 12,
     "metadata": {},
     "output_type": "execute_result"
    }
   ],
   "source": [
    "random.random()"
   ]
  },
  {
   "cell_type": "code",
   "execution_count": 13,
   "id": "b19ba736",
   "metadata": {},
   "outputs": [
    {
     "data": {
      "text/plain": [
       "73"
      ]
     },
     "execution_count": 13,
     "metadata": {},
     "output_type": "execute_result"
    }
   ],
   "source": [
    "random.randint(-90, 90)"
   ]
  },
  {
   "cell_type": "code",
   "execution_count": 14,
   "id": "224d4d62",
   "metadata": {},
   "outputs": [
    {
     "data": {
      "text/plain": [
       "0.13905684826237985"
      ]
     },
     "execution_count": 14,
     "metadata": {},
     "output_type": "execute_result"
    }
   ],
   "source": [
    "random.random()"
   ]
  },
  {
   "cell_type": "code",
   "execution_count": 17,
   "id": "051ded58",
   "metadata": {},
   "outputs": [
    {
     "data": {
      "text/plain": [
       "31.5529758342081"
      ]
     },
     "execution_count": 17,
     "metadata": {},
     "output_type": "execute_result"
    }
   ],
   "source": [
    "random_number = random.randint(-90, 89) + random.random()\n",
    "random_number"
   ]
  },
  {
   "cell_type": "code",
   "execution_count": 20,
   "id": "db2c390c",
   "metadata": {},
   "outputs": [],
   "source": [
    "x = 1\n",
    "latitudes = []\n",
    "while x < 11:\n",
    "    random_lat = random.randint(-90, 89) + random.random()\n",
    "    latitudes.append(random_lat)\n",
    "    x += 1"
   ]
  },
  {
   "cell_type": "code",
   "execution_count": 21,
   "id": "dabe3a3d",
   "metadata": {},
   "outputs": [
    {
     "data": {
      "text/plain": [
       "27"
      ]
     },
     "execution_count": 21,
     "metadata": {},
     "output_type": "execute_result"
    }
   ],
   "source": [
    "random.randrange(-90, 90, step=3)"
   ]
  },
  {
   "cell_type": "code",
   "execution_count": 22,
   "id": "89dff914",
   "metadata": {},
   "outputs": [
    {
     "data": {
      "text/plain": [
       "-33.42208037631941"
      ]
     },
     "execution_count": 22,
     "metadata": {},
     "output_type": "execute_result"
    }
   ],
   "source": [
    "random.uniform(-90, 90)"
   ]
  },
  {
   "cell_type": "code",
   "execution_count": 23,
   "id": "24355ef3",
   "metadata": {},
   "outputs": [],
   "source": [
    "# Import the NumPy module.\n",
    "import numpy as np"
   ]
  },
  {
   "cell_type": "code",
   "execution_count": 24,
   "id": "efdd2930",
   "metadata": {},
   "outputs": [
    {
     "data": {
      "text/plain": [
       "12.615850491279673"
      ]
     },
     "execution_count": 24,
     "metadata": {},
     "output_type": "execute_result"
    }
   ],
   "source": [
    "np.random.uniform(-90.000, 90.000)"
   ]
  },
  {
   "cell_type": "code",
   "execution_count": 25,
   "id": "277cbb4d",
   "metadata": {},
   "outputs": [
    {
     "data": {
      "text/plain": [
       "array([-58.05969455, -59.64631824, -38.19537702, -48.89505483,\n",
       "         6.06763992,  10.69746043, -25.47754339,  46.5890898 ,\n",
       "       -42.74720416,  45.19193576,  -2.05791448, -40.94413002,\n",
       "        18.21222196,  81.8810683 ,  25.74007709,  18.66011129,\n",
       "        76.1605162 ,  18.68930691, -64.75073091,  56.05627766,\n",
       "        22.32178225, -45.65739462,  19.15252804, -22.40119038,\n",
       "        49.30403888,  47.85998754,   3.83770705,  77.01832921,\n",
       "        37.66172471, -32.30453558,  31.96252917, -87.77624442,\n",
       "        70.1695295 ,  11.84968269,  74.12912952,  31.80981748,\n",
       "       -66.93058971,  22.26454027,  40.7375718 ,  21.25878609,\n",
       "       -17.59623822,  88.65691355, -63.49538979, -10.79862095,\n",
       "       -29.29242819,  67.71194427,  11.72548718,  62.68026912,\n",
       "        41.8804475 ,  43.70309566])"
      ]
     },
     "execution_count": 25,
     "metadata": {},
     "output_type": "execute_result"
    }
   ],
   "source": [
    "np.random.uniform(low=-90, high=90, size=50)"
   ]
  },
  {
   "cell_type": "code",
   "execution_count": 26,
   "id": "176f6ef6",
   "metadata": {},
   "outputs": [
    {
     "data": {
      "text/plain": [
       "array([ 7.16027301e+01,  5.96476465e+01, -5.79948903e+01,  3.03660093e+01,\n",
       "       -6.30418485e+01,  4.40465468e+01,  8.55812451e+01,  3.92308406e+01,\n",
       "       -1.92805679e+01, -3.37335082e+00,  7.38258818e+01,  6.40388049e+01,\n",
       "        2.97939350e+01, -4.68708101e+01,  3.77297342e+00,  6.32145086e+01,\n",
       "       -6.12833786e+01,  5.92165389e+01,  4.14060520e+01, -7.47016641e+01,\n",
       "       -4.18713036e+01, -2.17711384e+01, -4.21459890e+01, -5.93657352e+01,\n",
       "       -8.26018715e+01, -7.61137190e-02, -5.58109637e+01, -8.23179194e+01,\n",
       "        3.42780406e+01, -4.35462479e+01, -5.88692144e+01, -8.45820773e+01,\n",
       "       -2.87770539e+01, -6.55568449e+01,  5.92003974e+01, -3.09918369e+01,\n",
       "        6.87239507e+00, -3.54634346e+01,  1.44745659e+01, -4.91048110e+01,\n",
       "       -5.67708265e+01,  4.07720928e+01, -6.00699359e+01,  5.65116420e+01,\n",
       "        5.50454723e+01, -5.72804243e+00, -4.70149128e+01,  2.60153893e+01,\n",
       "        1.80030139e+01, -7.64303964e+01])"
      ]
     },
     "execution_count": 26,
     "metadata": {},
     "output_type": "execute_result"
    }
   ],
   "source": [
    "np.random.uniform(-90.000, 90.000, size=50)"
   ]
  },
  {
   "cell_type": "code",
   "execution_count": 27,
   "id": "9c6dda9b",
   "metadata": {},
   "outputs": [],
   "source": [
    "# Import timeit.\n",
    "import timeit"
   ]
  },
  {
   "cell_type": "code",
   "execution_count": 28,
   "id": "f121341b",
   "metadata": {},
   "outputs": [
    {
     "data": {
      "text/plain": [
       "array([ 47.13741302,  18.64440333,  87.93861834, ..., -70.88734643,\n",
       "        53.51704496,  -5.47650423])"
      ]
     },
     "execution_count": 28,
     "metadata": {},
     "output_type": "execute_result"
    }
   ],
   "source": [
    "np.random.uniform(-90.000, 90.000, size=1500)"
   ]
  },
  {
   "cell_type": "code",
   "execution_count": 31,
   "id": "9a29b23b",
   "metadata": {},
   "outputs": [
    {
     "name": "stdout",
     "output_type": "stream",
     "text": [
      "15.5 µs ± 106 ns per loop (mean ± std. dev. of 7 runs, 100000 loops each)\n"
     ]
    }
   ],
   "source": [
    "%timeit np.random.uniform(-90.000, 90.000, size=1500)"
   ]
  },
  {
   "cell_type": "code",
   "execution_count": 32,
   "id": "d0993a24",
   "metadata": {},
   "outputs": [
    {
     "data": {
      "text/plain": [
       "array([ 39.10501414,   4.83269216, -66.50071059, ..., -62.31311438,\n",
       "       -26.10692844, -44.23806833])"
      ]
     },
     "execution_count": 32,
     "metadata": {},
     "output_type": "execute_result"
    }
   ],
   "source": [
    "np.random.uniform(-90.000, 90.000, size=1500)"
   ]
  },
  {
   "cell_type": "code",
   "execution_count": 33,
   "id": "2468fc95",
   "metadata": {},
   "outputs": [
    {
     "name": "stdout",
     "output_type": "stream",
     "text": [
      "1.64 ms ± 13.3 µs per loop (mean ± std. dev. of 7 runs, 1000 loops each)\n"
     ]
    }
   ],
   "source": [
    "def latitudes(size):\n",
    "    latitudes = []\n",
    "    x = 0\n",
    "    while x < (size):\n",
    "        random_lat = random.randint(-90, 90) + random.random()\n",
    "        latitudes.append(random_lat)\n",
    "        x += 1\n",
    "    return latitudes\n",
    "# Call the function with 1500.\n",
    "%timeit latitudes(1500)"
   ]
  },
  {
   "cell_type": "code",
   "execution_count": 34,
   "id": "8c5cee24",
   "metadata": {},
   "outputs": [],
   "source": [
    "import timeit\n"
   ]
  },
  {
   "cell_type": "code",
   "execution_count": 35,
   "id": "430d07ae",
   "metadata": {},
   "outputs": [
    {
     "data": {
      "text/plain": [
       "array([ 75.4866562 , -88.86655655, -16.75516845, ..., -62.16254951,\n",
       "       -51.31059339, -58.70514714])"
      ]
     },
     "execution_count": 35,
     "metadata": {},
     "output_type": "execute_result"
    }
   ],
   "source": [
    "np.random.uniform(-90.000, 90.000, size=15000)"
   ]
  },
  {
   "cell_type": "code",
   "execution_count": null,
   "id": "3e49d461",
   "metadata": {},
   "outputs": [],
   "source": []
  }
 ],
 "metadata": {
  "kernelspec": {
   "display_name": "PythonData",
   "language": "python",
   "name": "pythondata"
  },
  "language_info": {
   "codemirror_mode": {
    "name": "ipython",
    "version": 3
   },
   "file_extension": ".py",
   "mimetype": "text/x-python",
   "name": "python",
   "nbconvert_exporter": "python",
   "pygments_lexer": "ipython3",
   "version": "3.8.8"
  }
 },
 "nbformat": 4,
 "nbformat_minor": 5
}
